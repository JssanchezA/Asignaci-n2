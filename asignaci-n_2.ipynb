{
  "nbformat": 4,
  "nbformat_minor": 0,
  "metadata": {
    "colab": {
      "name": "Asignación_2",
      "provenance": [],
      "authorship_tag": "ABX9TyNTOvfeJM5VdimU0dw8uCEU"
    },
    "kernelspec": {
      "name": "python3",
      "display_name": "Python 3"
    },
    "language_info": {
      "name": "python"
    }
  },
  "cells": [
    {
      "cell_type": "markdown",
      "source": [
        "# Asignación #2\n",
        "\n",
        "# Juan Sebastian Sanchez Ardila\n",
        "\n",
        "\n",
        "\n",
        "### 1. Lleve a codigo funcional las siguientes funciones"
      ],
      "metadata": {
        "id": "1J5cOUXyj-Hh"
      }
    },
    {
      "cell_type": "markdown",
      "source": [
        "$$1.\\ y_1 \\ =\\ log(x)$$\n",
        "\n",
        "\n",
        "### Condicion:\n",
        "1. $ x > 0 $"
      ],
      "metadata": {
        "id": "3heJoCBDksQS"
      }
    },
    {
      "cell_type": "code",
      "execution_count": null,
      "metadata": {
        "colab": {
          "base_uri": "https://localhost:8080/"
        },
        "id": "HODTzsRQj0iI",
        "outputId": "5df9f801-7d11-476d-ce5e-e0f5179d4f67"
      },
      "outputs": [
        {
          "output_type": "stream",
          "name": "stdout",
          "text": [
            "Ingrese x: 5\n",
            "y1 es: 0.6990\n"
          ]
        }
      ],
      "source": [
        "from math import log\n",
        "from math import log10\n",
        "\n",
        "x = float(input(\"Ingrese x: \"))\n",
        "if x<=0:\n",
        "  print(\"fuera del dominio \")\n",
        "else:\n",
        "  y1= log10(x)\n",
        "  print(\"y1 es: {:.4f}\".format(y1))"
      ]
    },
    {
      "cell_type": "markdown",
      "source": [
        "---\n",
        "\n",
        "$$y_2 =\\log\\sqrt{x}$$\n",
        "\n",
        "### Condicion:\n",
        "1. $x>0$"
      ],
      "metadata": {
        "id": "rYUadV3l-cBe"
      }
    },
    {
      "cell_type": "code",
      "source": [
        "from math import sqrt\n",
        "x = float(input(\"Ingrese x: \"))\n",
        "if x<=0:\n",
        "  print(\"fuera del dominio \")\n",
        "else:\n",
        "  y2= log10(sqrt(x))\n",
        "  print(\"y2 es: {:.4f}\".format(y2))"
      ],
      "metadata": {
        "colab": {
          "base_uri": "https://localhost:8080/"
        },
        "id": "MiWeULskDqXw",
        "outputId": "31fdcf89-6e2f-4186-8bca-4fdd7acb8ff0"
      },
      "execution_count": null,
      "outputs": [
        {
          "output_type": "stream",
          "name": "stdout",
          "text": [
            "Ingrese x: 5\n",
            "y2 es: 0.3495\n"
          ]
        }
      ]
    },
    {
      "cell_type": "markdown",
      "source": [
        "---\n",
        "\n",
        "$$y_3 =\\log\\sqrt{x^2-1}$$\n",
        "\n",
        "### Condicion:\n",
        "1. $x\\neq 1$\n",
        "2. $x\\neq -1$\n",
        "3. $x\\neq 0$"
      ],
      "metadata": {
        "id": "k88dP3-0IAmp"
      }
    },
    {
      "cell_type": "code",
      "source": [
        "from math import sqrt\n",
        "x = float(input(\"Ingrese x: \"))\n",
        "if (x==0) or (x==-1) or (x==1):\n",
        "  print(\"fuera del dominio \")\n",
        "else:\n",
        "  y3= log10(sqrt((x**2)-1))\n",
        "  print(\"y2 es: {:.4f}\".format(y3))"
      ],
      "metadata": {
        "colab": {
          "base_uri": "https://localhost:8080/"
        },
        "id": "z1c-RmVlFYZo",
        "outputId": "99a1f08c-badd-4550-e275-806fd68e41e0"
      },
      "execution_count": null,
      "outputs": [
        {
          "output_type": "stream",
          "name": "stdout",
          "text": [
            "Ingrese x: -3\n",
            "y2 es: 0.4515\n"
          ]
        }
      ]
    },
    {
      "cell_type": "markdown",
      "source": [
        "---\n",
        "\n",
        "$$y_4 =\\frac{\\log(\\sqrt{x-1})}{x^2+1}$$\n",
        "\n",
        "### Condicion:\n",
        "1. $x>1$"
      ],
      "metadata": {
        "id": "Yy8YIff8J3fS"
      }
    },
    {
      "cell_type": "code",
      "source": [
        "x = float(input(\"Ingrese x: \"))\n",
        "if x<=1:\n",
        "  print(\"fuera del dominio \")\n",
        "else:\n",
        "  y4= log10(sqrt(x-1)) / ((x**2)+1)\n",
        "  print(\"y2 es: {:.4f}\".format(y4))"
      ],
      "metadata": {
        "colab": {
          "base_uri": "https://localhost:8080/"
        },
        "id": "5mX-LxnIK7CK",
        "outputId": "6cb9eb4b-8129-438d-b58a-f8c46cb47010"
      },
      "execution_count": null,
      "outputs": [
        {
          "output_type": "stream",
          "name": "stdout",
          "text": [
            "Ingrese x: 5\n",
            "y2 es: 0.0116\n"
          ]
        }
      ]
    },
    {
      "cell_type": "markdown",
      "source": [
        "---\n",
        "\n",
        "$$y_5 =\\frac{x-1}{\\log(x)}$$\n",
        "\n",
        "### Condicion:\n",
        "1. $x>1$"
      ],
      "metadata": {
        "id": "NgQpxLe9MyW0"
      }
    },
    {
      "cell_type": "code",
      "source": [
        "x = float(input(\"Ingrese x: \"))\n",
        "if x<=1:\n",
        "  print(\"fuera del dominio \")\n",
        "else:\n",
        "  y5= (x-1)/log10(x)\n",
        "  print(\"y2 es: {:.4f}\".format(y5))"
      ],
      "metadata": {
        "colab": {
          "base_uri": "https://localhost:8080/"
        },
        "id": "Cxe2QrhXNgKM",
        "outputId": "41d76a4f-997c-4034-ff76-2ea156075d88"
      },
      "execution_count": null,
      "outputs": [
        {
          "output_type": "stream",
          "name": "stdout",
          "text": [
            "Ingrese x: 2\n",
            "y2 es: 3.3219\n"
          ]
        }
      ]
    },
    {
      "cell_type": "markdown",
      "source": [
        "---\n",
        "\n",
        "$$y_6 =\\frac{1}{x}+\\sqrt{x-1}$$\n",
        "\n",
        "### Condicion:\n",
        "1. $x>1$"
      ],
      "metadata": {
        "id": "ddet5whsj8BJ"
      }
    },
    {
      "cell_type": "code",
      "source": [
        "x = float(input(\"Ingrese x: \"))\n",
        "if x<1:\n",
        "  print(\"fuera del dominio \")\n",
        "else:\n",
        "  y6= (1/x)+sqrt(x-1)\n",
        "  print(\"y2 es: {:.4f}\".format(y6))"
      ],
      "metadata": {
        "colab": {
          "base_uri": "https://localhost:8080/"
        },
        "id": "3GEBBT92Pwxs",
        "outputId": "48083900-06d6-4e0c-e03c-d324950bb255"
      },
      "execution_count": null,
      "outputs": [
        {
          "output_type": "stream",
          "name": "stdout",
          "text": [
            "Ingrese x: 1\n",
            "y2 es: 1.0000\n"
          ]
        }
      ]
    },
    {
      "cell_type": "markdown",
      "source": [
        "---\n",
        "\n",
        "$$y_7 =\\frac{1}{x}+\\sqrt{x-1}-\\frac{1}{\\log(\\frac{1}{x+1})}$$\n",
        "\n",
        "### Condicion:\n",
        "1. $x>0$"
      ],
      "metadata": {
        "id": "FN0cdMZqXhGA"
      }
    },
    {
      "cell_type": "code",
      "source": [
        "x = float(input(\"Ingrese x: \"))\n",
        "if x<1:\n",
        "  print(\"fuera del dominio \")\n",
        "else:\n",
        "  y7= (1/x)+sqrt(x-1)-1/log10(1/(x+1))\n",
        "  print(\"y2 es: {:.4f}\".format(y7))"
      ],
      "metadata": {
        "colab": {
          "base_uri": "https://localhost:8080/"
        },
        "id": "dAzrHlYZYmq_",
        "outputId": "84f36d54-1bbe-40a5-fadf-3cf8b4c5921a"
      },
      "execution_count": null,
      "outputs": [
        {
          "output_type": "stream",
          "name": "stdout",
          "text": [
            "Ingrese x: 1\n",
            "y2 es: 4.3219\n"
          ]
        }
      ]
    },
    {
      "cell_type": "markdown",
      "source": [
        "---\n",
        "\n",
        "$$y_8 =\\frac{2}{x^2+1}$$\n",
        "\n"
      ],
      "metadata": {
        "id": "Zah9c4nFadew"
      }
    },
    {
      "cell_type": "code",
      "source": [
        "x = float(input(\"Ingrese x: \"))\n",
        "y8= 2/((x**2)+1)\n",
        "print(\"y2 es: {:.4f}\".format(y8))"
      ],
      "metadata": {
        "colab": {
          "base_uri": "https://localhost:8080/"
        },
        "id": "roDA8JfmadAA",
        "outputId": "a9ac0482-cdf0-48c4-b369-ce408b7c20af"
      },
      "execution_count": null,
      "outputs": [
        {
          "output_type": "stream",
          "name": "stdout",
          "text": [
            "Ingrese x: 2\n",
            "y2 es: 0.4000\n"
          ]
        }
      ]
    },
    {
      "cell_type": "markdown",
      "source": [
        "---\n",
        "\n",
        "$$y_9 =\\frac{1}{n}\\sum_{i=1}^{n}{xi}$$\n",
        "\n",
        "\n"
      ],
      "metadata": {
        "id": "H_yoaaswbmqh"
      }
    },
    {
      "cell_type": "code",
      "source": [
        ""
      ],
      "metadata": {
        "id": "voCPUXIia1ce"
      },
      "execution_count": null,
      "outputs": []
    },
    {
      "cell_type": "markdown",
      "source": [
        "---\n",
        "\n",
        "$$y_{10} =\\frac{1}{n-1}\\sum_{i=1}^{n}(xi-x)^2$$\n"
      ],
      "metadata": {
        "id": "bftGW4T1eQxq"
      }
    },
    {
      "cell_type": "code",
      "source": [
        ""
      ],
      "metadata": {
        "id": "rv2zLNV5eWxC"
      },
      "execution_count": null,
      "outputs": []
    },
    {
      "cell_type": "markdown",
      "source": [
        "---\n",
        "\n",
        "$$y_{11} =\\frac{\\sqrt{y10}}{y9}$$\n"
      ],
      "metadata": {
        "id": "9wIFfxqveXei"
      }
    },
    {
      "cell_type": "code",
      "source": [
        "x = float(input(\"Ingrese x: \"))\n",
        "\n",
        "y11= sqrt(y9) / y9\n",
        "print(\"y2 es: {:.4f}\".format(y11))"
      ],
      "metadata": {
        "id": "0Eor-ufUeeAi"
      },
      "execution_count": null,
      "outputs": []
    },
    {
      "cell_type": "markdown",
      "source": [
        "---\n",
        "\n",
        "# 1.1"
      ],
      "metadata": {
        "id": "SALsTY5Pi_Rj"
      }
    },
    {
      "cell_type": "code",
      "source": [
        "import math\n",
        "import numpy \n",
        "import random\n",
        "import matplotlib.pyplot as plt\n",
        "\n",
        "def variance(n):\n",
        "  var = numpy.random.normal(3,0.3,2)\n",
        "  list_var = [var[0], var[1]]\n",
        "  list_g = numpy.random.normal(3,0.3,n)\n",
        "  for i in range(n):\n",
        "    list_var.append(list_g[i])\n",
        "    print( numpy.var(list_var))\n",
        "  import matplotlib.pyplot as plt\n",
        "  plt.plot(list_var, range(n+2), 'pr')\n",
        "  plt.xlabel('Varianza')\n",
        "  plt.ylabel('N')\n",
        "  plt.show()\n",
        "variance(50)"
      ],
      "metadata": {
        "colab": {
          "base_uri": "https://localhost:8080/",
          "height": 1000
        },
        "id": "hyUUlCiFi-cj",
        "outputId": "36922a65-82f8-467a-ca8a-b1d38a6552d2"
      },
      "execution_count": null,
      "outputs": [
        {
          "output_type": "stream",
          "name": "stdout",
          "text": [
            "0.002613057240220851\n",
            "0.005675217297655629\n",
            "0.021850192594348793\n",
            "0.04380814298311198\n",
            "0.04078070719434262\n",
            "0.03595208806083271\n",
            "0.03272652111277128\n",
            "0.04158365063574633\n",
            "0.04048929421693818\n",
            "0.06112400218026296\n",
            "0.07031521810072916\n",
            "0.0666471632248373\n",
            "0.07306185023573473\n",
            "0.07127675084335333\n",
            "0.06737443279510077\n",
            "0.07003756726692228\n",
            "0.0668952104504808\n",
            "0.06607499325322272\n",
            "0.06309904618434385\n",
            "0.060283242079738425\n",
            "0.06880941412186373\n",
            "0.0674789221031546\n",
            "0.06593054292921145\n",
            "0.06852114990158689\n",
            "0.06818902551491414\n",
            "0.06620778258051577\n",
            "0.06950493500836595\n",
            "0.0690740967872228\n",
            "0.0738153918378094\n",
            "0.07160818321483291\n",
            "0.0696939575885679\n",
            "0.07185796155851278\n",
            "0.07251812745398421\n",
            "0.0710146734763332\n",
            "0.06956195580842037\n",
            "0.06844080281139249\n",
            "0.06716846376745149\n",
            "0.06552469284691645\n",
            "0.0684343166259987\n",
            "0.06828348334225108\n",
            "0.06962373237224245\n",
            "0.06822213551310552\n",
            "0.06779552506438168\n",
            "0.06895126041303153\n",
            "0.06793678350663819\n",
            "0.0680523092997327\n",
            "0.06697781373320445\n",
            "0.07071862383595104\n",
            "0.0700448957180714\n",
            "0.0692317411113193\n"
          ]
        },
        {
          "output_type": "display_data",
          "data": {
            "text/plain": [
              "<Figure size 432x288 with 1 Axes>"
            ],
            "image/png": "[encoded data removed]"
          },
          "metadata": {
            "needs_background": "light"
          }
        }
      ]
    },
    {
      "cell_type": "code",
      "source": [
        "import numpy\n",
        "\n",
        "def absorbance(T, *args, **kwargs):\n",
        "    if str(type(T))[8:12] != 'list':\n",
        "        return f'ingresar lista de transmitancias'\n",
        "    else:\n",
        "        import matplotlib.pyplot as plt\n",
        "        import math\n",
        "        transmittance = []\n",
        "        absorbance = []\n",
        "        for i in range(len(T)):\n",
        "            transmittance.append(T[i])\n",
        "            A = 2 - math.log10(T[i])\n",
        "            absorbance.append(A)\n",
        "        plt.plot(absorbance, transmittance, 'pr') \n",
        "        plt.title('Absorbancia vs transmmitancia')  \n",
        "        plt.xlabel('Absorvancia')\n",
        "        plt.ylabel('trasmitancia') \n",
        "        plt.show()\n",
        "\n",
        "T = numpy.random.uniform(50,100,100)\n",
        "absorbance(T =list(T))\n"
      ],
      "metadata": {
        "colab": {
          "base_uri": "https://localhost:8080/",
          "height": 295
        },
        "id": "3CfnH2yvj8zb",
        "outputId": "c87333ad-d823-4884-ff99-7f2ae5eb57b6"
      },
      "execution_count": null,
      "outputs": [
        {
          "output_type": "display_data",
          "data": {
            "text/plain": [
              "<Figure size 432x288 with 1 Axes>"
            ],
            "image/png": "[encoded data removed]"
          },
          "metadata": {
            "needs_background": "light"
          }
        }
      ]
    }
  ]
}